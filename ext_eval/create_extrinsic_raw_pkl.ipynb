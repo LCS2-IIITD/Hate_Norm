{
 "cells": [
  {
   "cell_type": "code",
   "execution_count": null,
   "metadata": {},
   "outputs": [],
   "source": [
    "import os\n",
    "import pickle"
   ]
  },
  {
   "cell_type": "code",
   "execution_count": null,
   "metadata": {},
   "outputs": [],
   "source": [
    "folder=\"ext_eval\""
   ]
  },
  {
   "cell_type": "code",
   "execution_count": null,
   "metadata": {},
   "outputs": [],
   "source": [
    "def f1():\n",
    "    model_file = \"test.txt\"\n",
    "    file = os.path.join(folder,model_file)\n",
    "    with open(file,\"r\") as f:\n",
    "        org_test=f.readlines()\n",
    "    org_test = [t.strip().split(\"\\t\")[0] for t in org_test]\n",
    "    print(len(org_test))\n",
    "    model_name = model_file.split(\".txt\")[0]\n",
    "    file = os.path.join(folder,model_name+\"_\"+str(len(org_test))+\".pkl\")\n",
    "    with open(file,\"wb\") as f:\n",
    "        pickle.dump(org_test,f)"
   ]
  },
  {
   "cell_type": "code",
   "execution_count": null,
   "metadata": {},
   "outputs": [],
   "source": [
    "def f2():\n",
    "    model_file = \"drgpreds\"\n",
    "    file = os.path.join(folder,model_file)\n",
    "    with open(file,\"r\") as f:\n",
    "        org_test=f.readlines()\n",
    "    org_test = [t.strip() for t in org_test]\n",
    "    print(len(org_test))\n",
    "    model_name = model_file.split(\".txt\")[0]\n",
    "    file = os.path.join(folder,model_name+\"_\"+str(len(org_test))+\".pkl\")\n",
    "    with open(file,\"wb\") as f:\n",
    "        pickle.dump(org_test,f)"
   ]
  },
  {
   "cell_type": "code",
   "execution_count": null,
   "metadata": {},
   "outputs": [],
   "source": [
    "def f3():\n",
    "    model_file = \"ntpcares\"\n",
    "    file = os.path.join(folder,model_file)\n",
    "    with open(file,\"r\") as f:\n",
    "        org_test=f.readlines()\n",
    "    org_test = [t.strip() for t in org_test] \n",
    "    print(len(org_test))\n",
    "    model_name = model_file.split(\".txt\")[0]\n",
    "    file = os.path.join(folder,model_name+\"_\"+str(len(org_test))+\".pkl\")\n",
    "    with open(file,\"wb\") as f:\n",
    "        pickle.dump(org_test,f)"
   ]
  },
  {
   "cell_type": "code",
   "execution_count": null,
   "metadata": {},
   "outputs": [],
   "source": [
    "def f4():\n",
    "    model_file = \"fgst.txt\"\n",
    "    file = os.path.join(folder,model_file)\n",
    "    with open(file,\"r\") as f:\n",
    "        fgst_test=f.readlines()\n",
    "    fgst_input=[]\n",
    "    out={1:[],2:[],3:[],4:[],5:[]}\n",
    "    for i in range(0,len(fgst_test),5):\n",
    "        block = fgst_test[i:i+5]\n",
    "        inp,_,_=block[0].strip().split(\"\\t\")\n",
    "        fgst_input.append(inp)\n",
    "        for text in block:\n",
    "            inp,text,id_=text.strip().split(\"\\t\")\n",
    "            id_=int(float(id_))\n",
    "            out[id_].append(text)\n",
    "        assert len(out[1])==len(out[2])==len(out[3])==len(out[4])==len(out[5])==len(fgst_input)\n",
    "    out[\"input\"]=fgst_input\n",
    "    print(len(fgst_input))\n",
    "    model_name = model_file.split(\".txt\")[0]\n",
    "    file = os.path.join(folder,model_name+\"_\"+str(len(fgst_input))+\".pkl\")\n",
    "    with open(file,\"wb\") as f:\n",
    "        pickle.dump(out,f)"
   ]
  },
  {
   "cell_type": "code",
   "execution_count": null,
   "metadata": {},
   "outputs": [],
   "source": [
    "def f5():\n",
    "    model_file = \"neutral.txt\"\n",
    "    file = os.path.join(folder,model_file)\n",
    "    with open(file,\"r\") as f:\n",
    "        org_test=f.readlines()\n",
    "    gold_seq = [org_test[i:i+8][2].strip().split(\"\\t\")[1][3:-3] for i in range(0,len(org_test),8)]\n",
    "    pred_seq = [org_test[i:i+8][3].strip().split(\"\\t\")[1][3:-3] for i in range(0,len(org_test),8)]\n",
    "    assert len(gold_seq)==len(pred_seq)\n",
    "    out ={\"input\":gold_seq,\"pred\":pred_seq}\n",
    "    print(len(gold_seq))\n",
    "    model_name = model_file.split(\".txt\")[0]\n",
    "    file = os.path.join(folder,model_name+\"_\"+str(len(gold_seq))+\".pkl\")\n",
    "    with open(file,\"wb\") as f:\n",
    "        pickle.dump(out,f)"
   ]
  },
  {
   "cell_type": "code",
   "execution_count": null,
   "metadata": {},
   "outputs": [],
   "source": [
    "def f6():\n",
    "    model_file = \"style\"\n",
    "    file = os.path.join(folder,model_file)\n",
    "    with open(file,\"r\") as f:\n",
    "        org_test=f.readlines()\n",
    "    org_test=org_test[1:-2]\n",
    "    gold_seq = [org_test[i:i+6][2][6:].strip() for i in range(0,len(org_test),6)]\n",
    "    len(gold_seq)\n",
    "    raw_seq = [org_test[i:i+6][3][6:].strip() for i in range(0,len(org_test),6)]\n",
    "    rev_seq = [org_test[i:i+6][4][6:].strip() for i in range(0,len(org_test),6)]\n",
    "    assert len(gold_seq)==len(raw_seq)==len(rev_seq)\n",
    "    out ={\"input\":gold_seq,\"pred_rev\":rev_seq,\"pred_raw\":raw_seq}\n",
    "    print(len(gold_seq))\n",
    "    model_name = model_file.split(\".txt\")[0]\n",
    "    file = os.path.join(folder,model_name+\"_\"+str(len(gold_seq))+\".pkl\")\n",
    "    with open(file,\"wb\") as f:\n",
    "        pickle.dump(out,f)"
   ]
  },
  {
   "cell_type": "code",
   "execution_count": null,
   "metadata": {},
   "outputs": [],
   "source": [
    "def f7():\n",
    "    model_file = \"test_small\"\n",
    "    file = os.path.join(folder,model_file)\n",
    "    with open(file,\"r\") as f:\n",
    "        org_test=f.readlines()\n",
    "    org_test = [t.strip().split(\"\\t\")[0] for t in org_test]\n",
    "    print(len(org_test))\n",
    "    model_name = model_file.split(\".txt\")[0]\n",
    "    file = os.path.join(folder,model_name+\"_\"+str(len(org_test))+\".pkl\")\n",
    "    with open(file,\"wb\") as f:\n",
    "        pickle.dump(org_test,f)"
   ]
  },
  {
   "cell_type": "code",
   "execution_count": null,
   "metadata": {},
   "outputs": [],
   "source": [
    "def f8():\n",
    "    model_file = \"test_dev\"\n",
    "    file = os.path.join(folder,model_file)\n",
    "    with open(file,\"r\") as f:\n",
    "        org_test=f.readlines()\n",
    "    org_test = [t.strip().split(\"\\t\")[0] for t in org_test]\n",
    "    print(len(org_test))\n",
    "    model_name = model_file.split(\".txt\")[0]\n",
    "    file = os.path.join(folder,model_name+\"_\"+str(len(org_test))+\".pkl\")\n",
    "    with open(file,\"wb\") as f:\n",
    "        pickle.dump(org_test,f)"
   ]
  },
  {
   "cell_type": "code",
   "execution_count": null,
   "metadata": {},
   "outputs": [],
   "source": [
    "def execute_():\n",
    "    f1()\n",
    "    f2()\n",
    "    f3()\n",
    "    f4()\n",
    "    f5()\n",
    "    f6()\n",
    "    f7()\n",
    "    f8()"
   ]
  },
  {
   "cell_type": "code",
   "execution_count": null,
   "metadata": {},
   "outputs": [],
   "source": [
    "execute_()"
   ]
  }
 ],
 "metadata": {
  "kernelspec": {
   "display_name": "Python 3",
   "language": "python",
   "name": "python3"
  },
  "language_info": {
   "codemirror_mode": {
    "name": "ipython",
    "version": 3
   },
   "file_extension": ".py",
   "mimetype": "text/x-python",
   "name": "python",
   "nbconvert_exporter": "python",
   "pygments_lexer": "ipython3",
   "version": "3.8.10"
  }
 },
 "nbformat": 4,
 "nbformat_minor": 4
}
