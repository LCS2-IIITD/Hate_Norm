{
 "cells": [
  {
   "cell_type": "code",
   "execution_count": null,
   "metadata": {},
   "outputs": [],
   "source": [
    "import json, os\n",
    "import re\n",
    "from sklearn.feature_extraction.text import TfidfVectorizer\n",
    "from sklearn.linear_model import LogisticRegression\n",
    "from sklearn.utils import shuffle\n",
    "from nltk.tokenize import TweetTokenizer\n",
    "import matplotlib.pyplot as plt\n",
    "from sklearn.metrics import classification_report\n",
    "from sklearn.metrics import confusion_matrix\n",
    "import pandas as pd\n",
    "import numpy as np\n",
    "import pickle \n",
    "\n",
    "label_map_original = {'none': 0, 'racism': 1, 'sexism': 2}\n",
    "label_map_modified = {\n",
    "    0: 0,  #NH\n",
    "    1: 1,  #H\n",
    "    2: 1  #H\n",
    "}\n",
    "hate_map = {0: \"NON HATE\", 1: \"HATE\"}\n",
    "\n",
    "model = LogisticRegression()\n",
    "nltk_tweet_tokenizer = TweetTokenizer().tokenize\n",
    "vectorizer = TfidfVectorizer(ngram_range=(1, 3),\n",
    "                             analyzer='char',\n",
    "                             tokenizer=nltk_tweet_tokenizer)"
   ]
  },
  {
   "cell_type": "code",
   "execution_count": null,
   "metadata": {},
   "outputs": [],
   "source": [
    "def load_data():\n",
    "    texts = []\n",
    "    labels = []\n",
    "    folder = \"ext_eval\"\n",
    "    file = os.path.join(folder, 'waseem_data_norm.json')\n",
    "    with open(file, 'r') as f:\n",
    "        waseem_data = json.load(f)\n",
    "    for each_tweet in waseem_data:\n",
    "        tweet = waseem_data[each_tweet]['text'].lower()\n",
    "        texts.append(tweet)\n",
    "        label_3 = int(waseem_data[each_tweet]['label_map'])\n",
    "        hate_label = label_map_modified[label_3]\n",
    "        labels.append(hate_label)\n",
    "    return texts, labels\n",
    "\n",
    "texts, labels = load_data()\n",
    "X = vectorizer.fit_transform(texts)\n",
    "Y = labels\n",
    "plt.hist(labels)\n",
    "plt.show()\n",
    "\n",
    "X, Y = shuffle(X, Y, random_state=42)\n",
    "model.fit(X, Y)\n",
    "y_preds = model.predict(X)\n",
    "report = classification_report(Y, y_preds)\n",
    "print(report)"
   ]
  },
  {
   "cell_type": "markdown",
   "metadata": {},
   "source": [
    "## Results"
   ]
  },
  {
   "cell_type": "code",
   "execution_count": null,
   "metadata": {},
   "outputs": [],
   "source": [
    "def ext_eval_probs(yg, yp):\n",
    "    diff = []\n",
    "    for g, p in zip(yg, yp):\n",
    "        if g >= 0.5 and p >= 0.5:  ## 0 is hate label so we take <0.5\n",
    "            diff.append(g - p)\n",
    "    return np.mean(diff)\n",
    "\n",
    "\n",
    "def run_for_test(model_name):\n",
    "    folder = \"ext_eval\"\n",
    "    print(model_name)\n",
    "    file = os.path.join(folder, model_name + \"_for_ext_eval.pkl\")\n",
    "    with open(file, \"rb\") as f:\n",
    "        data = pickle.load(f)\n",
    "    xg = data[\"ground\"]\n",
    "    xp = data[\"pred\"]\n",
    "    xg = return_feature_set(xg)\n",
    "    xp = return_feature_set(xp)\n",
    "    yg = model.predict_proba(xg)[:, 1]\n",
    "    yp = model.predict_proba(xp)[:, 1]\n",
    "    print(ext_eval_probs(yg, yp))\n",
    "\n",
    "\n",
    "def run_for_test_dict(model_name):\n",
    "    folder = \"ext_eval\"\n",
    "    print(model_name)\n",
    "    file = os.path.join(folder, model_name + \"_for_ext_eval.pkl\")\n",
    "    with open(file, \"rb\") as f:\n",
    "        data = pickle.load(f)\n",
    "    for k in data:\n",
    "        print(\"------k-----\", k)\n",
    "        xg = data[k][\"ground\"]\n",
    "        xp = data[k][\"pred\"]\n",
    "        xg = return_feature_set(xg)\n",
    "        xp = return_feature_set(xp)\n",
    "        yg = model.predict_proba(xg)[:, 1]\n",
    "        yp = model.predict_proba(xp)[:, 1]\n",
    "        print(ext_eval_probs(yg, yp))\n",
    "\n",
    "\n",
    "def execute_():\n",
    "    run_for_test(\"neutral\")\n",
    "    run_for_test(\"drgpreds\")\n",
    "    run_for_test(\"ntpcares\")\n",
    "    run_for_test_dict(\"fgst\")\n",
    "    run_for_test_dict(\"style\")\n",
    "    run_for_test(\"nacl\")"
   ]
  },
  {
   "cell_type": "code",
   "execution_count": null,
   "metadata": {},
   "outputs": [],
   "source": [
    "execute_()"
   ]
  }
 ],
 "metadata": {
  "kernelspec": {
   "display_name": "Python 3",
   "language": "python",
   "name": "python3"
  },
  "language_info": {
   "codemirror_mode": {
    "name": "ipython",
    "version": 3
   },
   "file_extension": ".py",
   "mimetype": "text/x-python",
   "name": "python",
   "nbconvert_exporter": "python",
   "pygments_lexer": "ipython3",
   "version": "3.8.10"
  }
 },
 "nbformat": 4,
 "nbformat_minor": 4
}
