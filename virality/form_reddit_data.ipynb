{
 "cells": [
  {
   "cell_type": "code",
   "execution_count": null,
   "metadata": {},
   "outputs": [],
   "source": [
    "import json\n",
    "import re\n",
    "import re\n",
    "from nltk.tokenize import TweetTokenizer\n",
    "import string\n",
    "import demoji\n",
    "import pickle"
   ]
  },
  {
   "cell_type": "code",
   "execution_count": null,
   "metadata": {},
   "outputs": [],
   "source": [
    "month = \"nov\"\n",
    "data_type = \"reddit\"\n",
    "input_file = \"selected_discussion_\" + month + \".jsonlist\"\n",
    "output_text_file = \"text_clean_\" + data_type + \".pkl\"\n",
    "output_com_file = \"count_clean_\" + data_type + \".pkl\"\n",
    "\n",
    "with open(input_file, \"r\") as f:\n",
    "    data = f.readlines()\n",
    "n = len(data)\n",
    "print(n)"
   ]
  },
  {
   "cell_type": "code",
   "execution_count": null,
   "metadata": {},
   "outputs": [],
   "source": [
    "def removeUsernames(string):\n",
    "    return re.sub('@[^\\s]+', '@user', string)\n",
    "\n",
    "\n",
    "def specialUnicodeRemover(string):\n",
    "    return re.sub(r\"(\\xe9|\\362)\", \"\", string)\n",
    "\n",
    "\n",
    "def punctuationRemover(tweet):\n",
    "    ls = list(string.punctuation)\n",
    "    ls.remove('@')\n",
    "    try:\n",
    "        tweet = tweet.translate(str.maketrans('', '', ls))\n",
    "        return tweet\n",
    "    except:\n",
    "        return tweet\n",
    "\n",
    "\n",
    "def RTRemover(string):\n",
    "    string = string.strip()\n",
    "    if 'RT' in string[0:2]:\n",
    "        string = string[2:]\n",
    "        return string\n",
    "    else:\n",
    "        return string\n",
    "\n",
    "\n",
    "def EmojiRemover(string):\n",
    "    return demoji.replace(string, \"\")\n",
    "\n",
    "\n",
    "def DotRemover(string):\n",
    "    if '...' in string:\n",
    "        string = string.replace('...', '')\n",
    "    elif '..' in string:\n",
    "        string = string.replace('..', '')\n",
    "    return string"
   ]
  },
  {
   "cell_type": "code",
   "execution_count": null,
   "metadata": {},
   "outputs": [],
   "source": [
    "text_final = []\n",
    "num_comments_final = []\n",
    "for i in range(n):\n",
    "    print(\"################\")\n",
    "    print(i)\n",
    "    each_reddit = json.loads(data[i])\n",
    "    value = list(each_reddit.keys())[0]\n",
    "    each_reddit = each_reddit[value]\n",
    "    for thread in each_reddit:\n",
    "        num_comments = thread.get('comments', [])\n",
    "        num_comments = len(num_comments)\n",
    "        if num_comments == 0:\n",
    "            continue\n",
    "        raw_text = thread.get('selftext', '') + ' ' + thread.get('title', '')\n",
    "        raw_text = raw_text.strip()\n",
    "        if raw_text:\n",
    "            cleaned_text = RTRemover(raw_text)\n",
    "            cleaned_text = removeUsernames(raw_text)\n",
    "            cleaned_text = re.sub(r'https?:\\/\\/\\S*',\n",
    "                                  '@url',\n",
    "                                  cleaned_text,\n",
    "                                  flags=re.MULTILINE)\n",
    "            cleaned_text = specialUnicodeRemover(cleaned_text)\n",
    "            cleaned_text = punctuationRemover(cleaned_text)\n",
    "            cleaned_text = EmojiRemover(cleaned_text)\n",
    "            cleaned_text = DotRemover(cleaned_text)\n",
    "            if cleaned_text:\n",
    "                cleaned_text = cleaned_text.lower()\n",
    "                text_final.append(cleaned_text)\n",
    "                num_comments_final.append(num_comments)"
   ]
  },
  {
   "cell_type": "code",
   "execution_count": null,
   "metadata": {},
   "outputs": [],
   "source": [
    "assert len(text_final) == len(num_comments_final)\n",
    "print(len(text_final))\n",
    "with open(output_text_file, \"wb\") as f:\n",
    "    pickle.dump(text_final, f)\n",
    "with open(output_com_file, \"wb\") as f:\n",
    "    pickle.dump(num_comments_final, f)"
   ]
  },
  {
   "cell_type": "code",
   "execution_count": null,
   "metadata": {},
   "outputs": [],
   "source": []
  }
 ],
 "metadata": {
  "kernelspec": {
   "display_name": "Python 3",
   "language": "python",
   "name": "python3"
  },
  "language_info": {
   "codemirror_mode": {
    "name": "ipython",
    "version": 3
   },
   "file_extension": ".py",
   "mimetype": "text/x-python",
   "name": "python",
   "nbconvert_exporter": "python",
   "pygments_lexer": "ipython3",
   "version": "3.8.10"
  }
 },
 "nbformat": 4,
 "nbformat_minor": 4
}
