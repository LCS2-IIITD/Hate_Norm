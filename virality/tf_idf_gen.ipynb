{
 "cells": [
  {
   "cell_type": "code",
   "execution_count": null,
   "metadata": {},
   "outputs": [],
   "source": [
    "import pickle\n",
    "import json\n",
    "import re\n",
    "from sklearn.feature_extraction.text import CountVectorizer, TfidfTransformer\n",
    "import nltk\n",
    "from nltk import word_tokenize\n",
    "from nltk.stem import WordNetLemmatizer\n",
    "import os\n",
    "from nltk.corpus import stopwords\n",
    "import argparse"
   ]
  },
  {
   "cell_type": "code",
   "execution_count": null,
   "metadata": {},
   "outputs": [],
   "source": [
    "### Referenced from https://github.com/LCS2-IIITD/ChatterNet/tree/master/Baselines/CasPred"
   ]
  },
  {
   "cell_type": "code",
   "execution_count": null,
   "metadata": {},
   "outputs": [],
   "source": [
    "class LemmaTokenizer():\n",
    "    def __init__(self):\n",
    "        self.wnl = WordNetLemmatizer()\n",
    "\n",
    "    def __call__(self, articles):\n",
    "        return [self.wnl.lemmatize(t) for t in word_tokenize(articles)]"
   ]
  },
  {
   "cell_type": "code",
   "execution_count": null,
   "metadata": {},
   "outputs": [],
   "source": [
    "data_type = \"reddit\"\n",
    "input_text_file = \"text_clean_\" + data_type + \".pkl\"\n",
    "input_count_file = \"count_clean_\" + data_type + \".pkl\"\n",
    "output_tf_file = \"tfidf_vectorizer_\" + data_type + \".pkl\"\n",
    "output_count_file = \"count_vectorizer_\" + data_type + \".pkl\"\n",
    "with open(input_text_file, \"rb\") as f:\n",
    "    text_final = pickle.load(f)\n",
    "with open(input_count_file, \"rb\") as f:\n",
    "    num_comments_final = pickle.load(f)\n",
    "assert len(text_final) == len(num_comments_final)\n",
    "print(\"Text List: \", len(text_final))\n",
    "\n",
    "stop_words = list(stopwords.words('english'))\n",
    "count_vectorizer = CountVectorizer(tokenizer=LemmaTokenizer(), stop_words=stop_words,max_features=786)\n",
    "uni_count_vectors = count_vectorizer.fit_transform(text_final)\n",
    "tfidf_transformer = TfidfTransformer(smooth_idf=True,use_idf=True, sublinear_tf=True)\n",
    "tfidf_transformer.fit(uni_count_vectors)\n",
    "\n",
    "with open(output_tf_file,\"wb\") as f:\n",
    "    pickle.dump(tfidf_transformer,f)\n",
    "with open(output_count_file,\"wb\") as f:\n",
    "    pickle.dump(count_vectorizer,f)"
   ]
  }
 ],
 "metadata": {
  "kernelspec": {
   "display_name": "Python 3",
   "language": "python",
   "name": "python3"
  },
  "language_info": {
   "codemirror_mode": {
    "name": "ipython",
    "version": 3
   },
   "file_extension": ".py",
   "mimetype": "text/x-python",
   "name": "python",
   "nbconvert_exporter": "python",
   "pygments_lexer": "ipython3",
   "version": "3.8.10"
  }
 },
 "nbformat": 4,
 "nbformat_minor": 4
}
